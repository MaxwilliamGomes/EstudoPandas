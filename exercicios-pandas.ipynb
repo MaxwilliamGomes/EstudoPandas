{
 "cells": [
  {
   "cell_type": "markdown",
   "id": "eb29fb7a-5c3a-46df-a5f9-627148c66351",
   "metadata": {},
   "source": [
    "## Exercícios"
   ]
  },
  {
   "cell_type": "markdown",
   "id": "ad2f7eba-5091-4fec-b113-487186883a09",
   "metadata": {},
   "source": [
    "Link para Dataset: https://www.kaggle.com/datasets/matheusfreitag/gas-prices-in-brazil"
   ]
  },
  {
   "cell_type": "code",
   "execution_count": 20,
   "id": "d0e9c6b9-3840-47a5-956f-9954b612c657",
   "metadata": {},
   "outputs": [],
   "source": [
    "import pandas as pd"
   ]
  },
  {
   "cell_type": "markdown",
   "id": "76366baf-6608-4ad2-b14b-ff048e5adb90",
   "metadata": {},
   "source": [
    "## Neste projeto, trabalharemos com dois arquivos csvs separados, contendo informações sobre o preço da gasolina no Brasil. \n",
    "\n",
    "### 1. Carregue os conjuntos de dados \"gasolina_2000+.csv\" e \"gasolina_2010+.csv\" em dois DataFrames diferentes e combine-os em um único DataFrame."
   ]
  },
  {
   "cell_type": "code",
   "execution_count": 21,
   "id": "c7decfae-2c39-48fb-8412-6dd2e789f28e",
   "metadata": {},
   "outputs": [
    {
     "name": "stderr",
     "output_type": "stream",
     "text": [
      "C:\\Users\\PICHAU\\AppData\\Local\\Temp\\ipykernel_10580\\2243739770.py:2: DtypeWarning: Columns (12,14,15,16,17,18) have mixed types. Specify dtype option on import or set low_memory=False.\n",
      "  Gas_2010 = pd.read_csv(\"gasolina_2010+.csv\")\n"
     ]
    }
   ],
   "source": [
    "Gas_2000 = pd.read_csv(\"gasolina_2000+.csv\")\n",
    "Gas_2010 = pd.read_csv(\"gasolina_2010+.csv\")\n",
    "\n",
    "Df_gasolina  = pd.concat([Gas_2000, Gas_2010])"
   ]
  },
  {
   "cell_type": "markdown",
   "id": "6cd74f39-565b-47ea-9171-9679eb964b1c",
   "metadata": {},
   "source": [
    "### 2.Investigue as colunas e entenda o conjunto de dados usando o head() e info()"
   ]
  },
  {
   "cell_type": "code",
   "execution_count": 22,
   "id": "079e63b5-4836-4332-86ee-11c804543571",
   "metadata": {},
   "outputs": [
    {
     "data": {
      "text/html": [
       "<div>\n",
       "<style scoped>\n",
       "    .dataframe tbody tr th:only-of-type {\n",
       "        vertical-align: middle;\n",
       "    }\n",
       "\n",
       "    .dataframe tbody tr th {\n",
       "        vertical-align: top;\n",
       "    }\n",
       "\n",
       "    .dataframe thead th {\n",
       "        text-align: right;\n",
       "    }\n",
       "</style>\n",
       "<table border=\"1\" class=\"dataframe\">\n",
       "  <thead>\n",
       "    <tr style=\"text-align: right;\">\n",
       "      <th></th>\n",
       "      <th>Unnamed: 0</th>\n",
       "      <th>DATA INICIAL</th>\n",
       "      <th>DATA FINAL</th>\n",
       "      <th>REGIÃO</th>\n",
       "      <th>ESTADO</th>\n",
       "      <th>PRODUTO</th>\n",
       "      <th>NÚMERO DE POSTOS PESQUISADOS</th>\n",
       "      <th>UNIDADE DE MEDIDA</th>\n",
       "      <th>PREÇO MÉDIO REVENDA</th>\n",
       "      <th>DESVIO PADRÃO REVENDA</th>\n",
       "      <th>PREÇO MÍNIMO REVENDA</th>\n",
       "      <th>PREÇO MÁXIMO REVENDA</th>\n",
       "      <th>MARGEM MÉDIA REVENDA</th>\n",
       "      <th>COEF DE VARIAÇÃO REVENDA</th>\n",
       "      <th>PREÇO MÉDIO DISTRIBUIÇÃO</th>\n",
       "      <th>DESVIO PADRÃO DISTRIBUIÇÃO</th>\n",
       "      <th>PREÇO MÍNIMO DISTRIBUIÇÃO</th>\n",
       "      <th>PREÇO MÁXIMO DISTRIBUIÇÃO</th>\n",
       "      <th>COEF DE VARIAÇÃO DISTRIBUIÇÃO</th>\n",
       "    </tr>\n",
       "  </thead>\n",
       "  <tbody>\n",
       "    <tr>\n",
       "      <th>0</th>\n",
       "      <td>0</td>\n",
       "      <td>2004-05-09</td>\n",
       "      <td>2004-05-15</td>\n",
       "      <td>CENTRO OESTE</td>\n",
       "      <td>DISTRITO FEDERAL</td>\n",
       "      <td>ETANOL HIDRATADO</td>\n",
       "      <td>127</td>\n",
       "      <td>R$/l</td>\n",
       "      <td>1.288</td>\n",
       "      <td>0.016</td>\n",
       "      <td>1.19</td>\n",
       "      <td>1.350</td>\n",
       "      <td>0.463</td>\n",
       "      <td>0.012</td>\n",
       "      <td>0.825</td>\n",
       "      <td>0.11</td>\n",
       "      <td>0.4201</td>\n",
       "      <td>0.9666</td>\n",
       "      <td>0.133</td>\n",
       "    </tr>\n",
       "    <tr>\n",
       "      <th>1</th>\n",
       "      <td>1</td>\n",
       "      <td>2004-05-09</td>\n",
       "      <td>2004-05-15</td>\n",
       "      <td>CENTRO OESTE</td>\n",
       "      <td>GOIAS</td>\n",
       "      <td>ETANOL HIDRATADO</td>\n",
       "      <td>387</td>\n",
       "      <td>R$/l</td>\n",
       "      <td>1.162</td>\n",
       "      <td>0.114</td>\n",
       "      <td>0.89</td>\n",
       "      <td>1.449</td>\n",
       "      <td>0.399</td>\n",
       "      <td>0.098</td>\n",
       "      <td>0.763</td>\n",
       "      <td>0.088</td>\n",
       "      <td>0.5013</td>\n",
       "      <td>1.05</td>\n",
       "      <td>0.115</td>\n",
       "    </tr>\n",
       "    <tr>\n",
       "      <th>2</th>\n",
       "      <td>2</td>\n",
       "      <td>2004-05-09</td>\n",
       "      <td>2004-05-15</td>\n",
       "      <td>CENTRO OESTE</td>\n",
       "      <td>MATO GROSSO</td>\n",
       "      <td>ETANOL HIDRATADO</td>\n",
       "      <td>192</td>\n",
       "      <td>R$/l</td>\n",
       "      <td>1.389</td>\n",
       "      <td>0.097</td>\n",
       "      <td>1.18</td>\n",
       "      <td>1.760</td>\n",
       "      <td>0.419</td>\n",
       "      <td>0.070</td>\n",
       "      <td>0.97</td>\n",
       "      <td>0.095</td>\n",
       "      <td>0.5614</td>\n",
       "      <td>1.161</td>\n",
       "      <td>0.098</td>\n",
       "    </tr>\n",
       "    <tr>\n",
       "      <th>3</th>\n",
       "      <td>3</td>\n",
       "      <td>2004-05-09</td>\n",
       "      <td>2004-05-15</td>\n",
       "      <td>CENTRO OESTE</td>\n",
       "      <td>MATO GROSSO DO SUL</td>\n",
       "      <td>ETANOL HIDRATADO</td>\n",
       "      <td>162</td>\n",
       "      <td>R$/l</td>\n",
       "      <td>1.262</td>\n",
       "      <td>0.070</td>\n",
       "      <td>1.09</td>\n",
       "      <td>1.509</td>\n",
       "      <td>0.432</td>\n",
       "      <td>0.055</td>\n",
       "      <td>0.83</td>\n",
       "      <td>0.119</td>\n",
       "      <td>0.5991</td>\n",
       "      <td>1.22242</td>\n",
       "      <td>0.143</td>\n",
       "    </tr>\n",
       "    <tr>\n",
       "      <th>4</th>\n",
       "      <td>4</td>\n",
       "      <td>2004-05-09</td>\n",
       "      <td>2004-05-15</td>\n",
       "      <td>NORDESTE</td>\n",
       "      <td>ALAGOAS</td>\n",
       "      <td>ETANOL HIDRATADO</td>\n",
       "      <td>103</td>\n",
       "      <td>R$/l</td>\n",
       "      <td>1.181</td>\n",
       "      <td>0.078</td>\n",
       "      <td>1.05</td>\n",
       "      <td>1.400</td>\n",
       "      <td>0.24</td>\n",
       "      <td>0.066</td>\n",
       "      <td>0.941</td>\n",
       "      <td>0.077</td>\n",
       "      <td>0.7441</td>\n",
       "      <td>1.0317</td>\n",
       "      <td>0.082</td>\n",
       "    </tr>\n",
       "  </tbody>\n",
       "</table>\n",
       "</div>"
      ],
      "text/plain": [
       "   Unnamed: 0 DATA INICIAL  DATA FINAL        REGIÃO              ESTADO  \\\n",
       "0           0   2004-05-09  2004-05-15  CENTRO OESTE    DISTRITO FEDERAL   \n",
       "1           1   2004-05-09  2004-05-15  CENTRO OESTE               GOIAS   \n",
       "2           2   2004-05-09  2004-05-15  CENTRO OESTE         MATO GROSSO   \n",
       "3           3   2004-05-09  2004-05-15  CENTRO OESTE  MATO GROSSO DO SUL   \n",
       "4           4   2004-05-09  2004-05-15      NORDESTE             ALAGOAS   \n",
       "\n",
       "            PRODUTO  NÚMERO DE POSTOS PESQUISADOS UNIDADE DE MEDIDA  \\\n",
       "0  ETANOL HIDRATADO                           127              R$/l   \n",
       "1  ETANOL HIDRATADO                           387              R$/l   \n",
       "2  ETANOL HIDRATADO                           192              R$/l   \n",
       "3  ETANOL HIDRATADO                           162              R$/l   \n",
       "4  ETANOL HIDRATADO                           103              R$/l   \n",
       "\n",
       "   PREÇO MÉDIO REVENDA  DESVIO PADRÃO REVENDA  PREÇO MÍNIMO REVENDA  \\\n",
       "0                1.288                  0.016                  1.19   \n",
       "1                1.162                  0.114                  0.89   \n",
       "2                1.389                  0.097                  1.18   \n",
       "3                1.262                  0.070                  1.09   \n",
       "4                1.181                  0.078                  1.05   \n",
       "\n",
       "   PREÇO MÁXIMO REVENDA MARGEM MÉDIA REVENDA  COEF DE VARIAÇÃO REVENDA  \\\n",
       "0                 1.350                0.463                     0.012   \n",
       "1                 1.449                0.399                     0.098   \n",
       "2                 1.760                0.419                     0.070   \n",
       "3                 1.509                0.432                     0.055   \n",
       "4                 1.400                 0.24                     0.066   \n",
       "\n",
       "  PREÇO MÉDIO DISTRIBUIÇÃO DESVIO PADRÃO DISTRIBUIÇÃO  \\\n",
       "0                    0.825                       0.11   \n",
       "1                    0.763                      0.088   \n",
       "2                     0.97                      0.095   \n",
       "3                     0.83                      0.119   \n",
       "4                    0.941                      0.077   \n",
       "\n",
       "  PREÇO MÍNIMO DISTRIBUIÇÃO PREÇO MÁXIMO DISTRIBUIÇÃO  \\\n",
       "0                    0.4201                    0.9666   \n",
       "1                    0.5013                      1.05   \n",
       "2                    0.5614                     1.161   \n",
       "3                    0.5991                   1.22242   \n",
       "4                    0.7441                    1.0317   \n",
       "\n",
       "  COEF DE VARIAÇÃO DISTRIBUIÇÃO  \n",
       "0                         0.133  \n",
       "1                         0.115  \n",
       "2                         0.098  \n",
       "3                         0.143  \n",
       "4                         0.082  "
      ]
     },
     "execution_count": 22,
     "metadata": {},
     "output_type": "execute_result"
    }
   ],
   "source": [
    "Df_gasolina.head()"
   ]
  },
  {
   "cell_type": "code",
   "execution_count": 23,
   "id": "b15b35ba",
   "metadata": {},
   "outputs": [
    {
     "name": "stdout",
     "output_type": "stream",
     "text": [
      "<class 'pandas.core.frame.DataFrame'>\n",
      "Index: 120823 entries, 0 to 78184\n",
      "Data columns (total 19 columns):\n",
      " #   Column                         Non-Null Count   Dtype  \n",
      "---  ------                         --------------   -----  \n",
      " 0   Unnamed: 0                     120823 non-null  int64  \n",
      " 1   DATA INICIAL                   120823 non-null  object \n",
      " 2   DATA FINAL                     120823 non-null  object \n",
      " 3   REGIÃO                         120823 non-null  object \n",
      " 4   ESTADO                         120823 non-null  object \n",
      " 5   PRODUTO                        120823 non-null  object \n",
      " 6   NÚMERO DE POSTOS PESQUISADOS   120823 non-null  int64  \n",
      " 7   UNIDADE DE MEDIDA              120823 non-null  object \n",
      " 8   PREÇO MÉDIO REVENDA            120823 non-null  float64\n",
      " 9   DESVIO PADRÃO REVENDA          120823 non-null  float64\n",
      " 10  PREÇO MÍNIMO REVENDA           120823 non-null  float64\n",
      " 11  PREÇO MÁXIMO REVENDA           120823 non-null  float64\n",
      " 12  MARGEM MÉDIA REVENDA           120823 non-null  object \n",
      " 13  COEF DE VARIAÇÃO REVENDA       120823 non-null  float64\n",
      " 14  PREÇO MÉDIO DISTRIBUIÇÃO       120823 non-null  object \n",
      " 15  DESVIO PADRÃO DISTRIBUIÇÃO     120823 non-null  object \n",
      " 16  PREÇO MÍNIMO DISTRIBUIÇÃO      120823 non-null  object \n",
      " 17  PREÇO MÁXIMO DISTRIBUIÇÃO      120823 non-null  object \n",
      " 18  COEF DE VARIAÇÃO DISTRIBUIÇÃO  120823 non-null  object \n",
      "dtypes: float64(5), int64(2), object(12)\n",
      "memory usage: 18.4+ MB\n"
     ]
    }
   ],
   "source": [
    "Df_gasolina.info()"
   ]
  },
  {
   "cell_type": "markdown",
   "id": "2bcb2d2f-1c32-4583-8981-ca5b6ed0e048",
   "metadata": {},
   "source": [
    "### 3. Selecione a terceira entrada da coluna DATA INICIAL e verifique seu tipo."
   ]
  },
  {
   "cell_type": "code",
   "execution_count": 24,
   "id": "c4399a8c-0ad3-4b6e-bcd8-d701438892fe",
   "metadata": {},
   "outputs": [
    {
     "data": {
      "text/plain": [
       "pandas.core.series.Series"
      ]
     },
     "execution_count": 24,
     "metadata": {},
     "output_type": "execute_result"
    }
   ],
   "source": [
    "type(Df_gasolina[\"DATA INICIAL\"].loc[2])"
   ]
  },
  {
   "cell_type": "markdown",
   "id": "7eda8c87-eef7-4b66-97ee-46629b214fc7",
   "metadata": {},
   "source": [
    "### 4. Você deve ter percebido que as colunas DATA INICIAL e DATA FINAL estão formatadas como string. Utilizando o método pd.to_datetime(), converta ambas colunas para Timestamp / Datetime."
   ]
  },
  {
   "cell_type": "code",
   "execution_count": 25,
   "id": "adbfd5f2",
   "metadata": {},
   "outputs": [],
   "source": [
    "Df_gasolina[\"DATA INICIAL\"] = pd.to_datetime(Df_gasolina[\"DATA INICIAL\"])"
   ]
  },
  {
   "cell_type": "code",
   "execution_count": 26,
   "id": "6813ae62-bdd0-4f73-8278-7fa0e0027f9c",
   "metadata": {},
   "outputs": [],
   "source": [
    "Df_gasolina[\"DATA FINAL\"] = pd.to_datetime(Df_gasolina[\"DATA FINAL\"])\n"
   ]
  },
  {
   "cell_type": "code",
   "execution_count": 27,
   "id": "94c5b226",
   "metadata": {},
   "outputs": [
    {
     "name": "stdout",
     "output_type": "stream",
     "text": [
      "<class 'pandas.core.frame.DataFrame'>\n",
      "Index: 120823 entries, 0 to 78184\n",
      "Data columns (total 19 columns):\n",
      " #   Column                         Non-Null Count   Dtype         \n",
      "---  ------                         --------------   -----         \n",
      " 0   Unnamed: 0                     120823 non-null  int64         \n",
      " 1   DATA INICIAL                   120823 non-null  datetime64[ns]\n",
      " 2   DATA FINAL                     120823 non-null  datetime64[ns]\n",
      " 3   REGIÃO                         120823 non-null  object        \n",
      " 4   ESTADO                         120823 non-null  object        \n",
      " 5   PRODUTO                        120823 non-null  object        \n",
      " 6   NÚMERO DE POSTOS PESQUISADOS   120823 non-null  int64         \n",
      " 7   UNIDADE DE MEDIDA              120823 non-null  object        \n",
      " 8   PREÇO MÉDIO REVENDA            120823 non-null  float64       \n",
      " 9   DESVIO PADRÃO REVENDA          120823 non-null  float64       \n",
      " 10  PREÇO MÍNIMO REVENDA           120823 non-null  float64       \n",
      " 11  PREÇO MÁXIMO REVENDA           120823 non-null  float64       \n",
      " 12  MARGEM MÉDIA REVENDA           120823 non-null  object        \n",
      " 13  COEF DE VARIAÇÃO REVENDA       120823 non-null  float64       \n",
      " 14  PREÇO MÉDIO DISTRIBUIÇÃO       120823 non-null  object        \n",
      " 15  DESVIO PADRÃO DISTRIBUIÇÃO     120823 non-null  object        \n",
      " 16  PREÇO MÍNIMO DISTRIBUIÇÃO      120823 non-null  object        \n",
      " 17  PREÇO MÁXIMO DISTRIBUIÇÃO      120823 non-null  object        \n",
      " 18  COEF DE VARIAÇÃO DISTRIBUIÇÃO  120823 non-null  object        \n",
      "dtypes: datetime64[ns](2), float64(5), int64(2), object(10)\n",
      "memory usage: 22.5+ MB\n"
     ]
    }
   ],
   "source": [
    "Df_gasolina.info()"
   ]
  },
  {
   "cell_type": "markdown",
   "id": "2f9aaafa-f9a4-4f07-9bc6-86e5911c863c",
   "metadata": {},
   "source": [
    "### 5. Crie uma nova coluna para representar o ano e o mês(aaaa-mm), utilizando a coluna DATA FINAL como referência. "
   ]
  },
  {
   "cell_type": "code",
   "execution_count": 28,
   "id": "03f15a92-bae5-4256-add1-a7c97fe9f01d",
   "metadata": {},
   "outputs": [],
   "source": [
    "Df_gasolina[\"Ano-mes\"] = Df_gasolina[\"DATA FINAL\"].dt.to_period(\"M\")"
   ]
  },
  {
   "cell_type": "code",
   "execution_count": 29,
   "id": "d76f15ac",
   "metadata": {},
   "outputs": [
    {
     "data": {
      "text/html": [
       "<div>\n",
       "<style scoped>\n",
       "    .dataframe tbody tr th:only-of-type {\n",
       "        vertical-align: middle;\n",
       "    }\n",
       "\n",
       "    .dataframe tbody tr th {\n",
       "        vertical-align: top;\n",
       "    }\n",
       "\n",
       "    .dataframe thead th {\n",
       "        text-align: right;\n",
       "    }\n",
       "</style>\n",
       "<table border=\"1\" class=\"dataframe\">\n",
       "  <thead>\n",
       "    <tr style=\"text-align: right;\">\n",
       "      <th></th>\n",
       "      <th>Unnamed: 0</th>\n",
       "      <th>DATA INICIAL</th>\n",
       "      <th>DATA FINAL</th>\n",
       "      <th>REGIÃO</th>\n",
       "      <th>ESTADO</th>\n",
       "      <th>PRODUTO</th>\n",
       "      <th>NÚMERO DE POSTOS PESQUISADOS</th>\n",
       "      <th>UNIDADE DE MEDIDA</th>\n",
       "      <th>PREÇO MÉDIO REVENDA</th>\n",
       "      <th>DESVIO PADRÃO REVENDA</th>\n",
       "      <th>PREÇO MÍNIMO REVENDA</th>\n",
       "      <th>PREÇO MÁXIMO REVENDA</th>\n",
       "      <th>MARGEM MÉDIA REVENDA</th>\n",
       "      <th>COEF DE VARIAÇÃO REVENDA</th>\n",
       "      <th>PREÇO MÉDIO DISTRIBUIÇÃO</th>\n",
       "      <th>DESVIO PADRÃO DISTRIBUIÇÃO</th>\n",
       "      <th>PREÇO MÍNIMO DISTRIBUIÇÃO</th>\n",
       "      <th>PREÇO MÁXIMO DISTRIBUIÇÃO</th>\n",
       "      <th>COEF DE VARIAÇÃO DISTRIBUIÇÃO</th>\n",
       "      <th>Ano-mes</th>\n",
       "    </tr>\n",
       "  </thead>\n",
       "  <tbody>\n",
       "    <tr>\n",
       "      <th>0</th>\n",
       "      <td>0</td>\n",
       "      <td>2004-05-09</td>\n",
       "      <td>2004-05-15</td>\n",
       "      <td>CENTRO OESTE</td>\n",
       "      <td>DISTRITO FEDERAL</td>\n",
       "      <td>ETANOL HIDRATADO</td>\n",
       "      <td>127</td>\n",
       "      <td>R$/l</td>\n",
       "      <td>1.288</td>\n",
       "      <td>0.016</td>\n",
       "      <td>1.19</td>\n",
       "      <td>1.350</td>\n",
       "      <td>0.463</td>\n",
       "      <td>0.012</td>\n",
       "      <td>0.825</td>\n",
       "      <td>0.11</td>\n",
       "      <td>0.4201</td>\n",
       "      <td>0.9666</td>\n",
       "      <td>0.133</td>\n",
       "      <td>2004-05</td>\n",
       "    </tr>\n",
       "    <tr>\n",
       "      <th>1</th>\n",
       "      <td>1</td>\n",
       "      <td>2004-05-09</td>\n",
       "      <td>2004-05-15</td>\n",
       "      <td>CENTRO OESTE</td>\n",
       "      <td>GOIAS</td>\n",
       "      <td>ETANOL HIDRATADO</td>\n",
       "      <td>387</td>\n",
       "      <td>R$/l</td>\n",
       "      <td>1.162</td>\n",
       "      <td>0.114</td>\n",
       "      <td>0.89</td>\n",
       "      <td>1.449</td>\n",
       "      <td>0.399</td>\n",
       "      <td>0.098</td>\n",
       "      <td>0.763</td>\n",
       "      <td>0.088</td>\n",
       "      <td>0.5013</td>\n",
       "      <td>1.05</td>\n",
       "      <td>0.115</td>\n",
       "      <td>2004-05</td>\n",
       "    </tr>\n",
       "    <tr>\n",
       "      <th>2</th>\n",
       "      <td>2</td>\n",
       "      <td>2004-05-09</td>\n",
       "      <td>2004-05-15</td>\n",
       "      <td>CENTRO OESTE</td>\n",
       "      <td>MATO GROSSO</td>\n",
       "      <td>ETANOL HIDRATADO</td>\n",
       "      <td>192</td>\n",
       "      <td>R$/l</td>\n",
       "      <td>1.389</td>\n",
       "      <td>0.097</td>\n",
       "      <td>1.18</td>\n",
       "      <td>1.760</td>\n",
       "      <td>0.419</td>\n",
       "      <td>0.070</td>\n",
       "      <td>0.97</td>\n",
       "      <td>0.095</td>\n",
       "      <td>0.5614</td>\n",
       "      <td>1.161</td>\n",
       "      <td>0.098</td>\n",
       "      <td>2004-05</td>\n",
       "    </tr>\n",
       "    <tr>\n",
       "      <th>3</th>\n",
       "      <td>3</td>\n",
       "      <td>2004-05-09</td>\n",
       "      <td>2004-05-15</td>\n",
       "      <td>CENTRO OESTE</td>\n",
       "      <td>MATO GROSSO DO SUL</td>\n",
       "      <td>ETANOL HIDRATADO</td>\n",
       "      <td>162</td>\n",
       "      <td>R$/l</td>\n",
       "      <td>1.262</td>\n",
       "      <td>0.070</td>\n",
       "      <td>1.09</td>\n",
       "      <td>1.509</td>\n",
       "      <td>0.432</td>\n",
       "      <td>0.055</td>\n",
       "      <td>0.83</td>\n",
       "      <td>0.119</td>\n",
       "      <td>0.5991</td>\n",
       "      <td>1.22242</td>\n",
       "      <td>0.143</td>\n",
       "      <td>2004-05</td>\n",
       "    </tr>\n",
       "    <tr>\n",
       "      <th>4</th>\n",
       "      <td>4</td>\n",
       "      <td>2004-05-09</td>\n",
       "      <td>2004-05-15</td>\n",
       "      <td>NORDESTE</td>\n",
       "      <td>ALAGOAS</td>\n",
       "      <td>ETANOL HIDRATADO</td>\n",
       "      <td>103</td>\n",
       "      <td>R$/l</td>\n",
       "      <td>1.181</td>\n",
       "      <td>0.078</td>\n",
       "      <td>1.05</td>\n",
       "      <td>1.400</td>\n",
       "      <td>0.24</td>\n",
       "      <td>0.066</td>\n",
       "      <td>0.941</td>\n",
       "      <td>0.077</td>\n",
       "      <td>0.7441</td>\n",
       "      <td>1.0317</td>\n",
       "      <td>0.082</td>\n",
       "      <td>2004-05</td>\n",
       "    </tr>\n",
       "  </tbody>\n",
       "</table>\n",
       "</div>"
      ],
      "text/plain": [
       "   Unnamed: 0 DATA INICIAL DATA FINAL        REGIÃO              ESTADO  \\\n",
       "0           0   2004-05-09 2004-05-15  CENTRO OESTE    DISTRITO FEDERAL   \n",
       "1           1   2004-05-09 2004-05-15  CENTRO OESTE               GOIAS   \n",
       "2           2   2004-05-09 2004-05-15  CENTRO OESTE         MATO GROSSO   \n",
       "3           3   2004-05-09 2004-05-15  CENTRO OESTE  MATO GROSSO DO SUL   \n",
       "4           4   2004-05-09 2004-05-15      NORDESTE             ALAGOAS   \n",
       "\n",
       "            PRODUTO  NÚMERO DE POSTOS PESQUISADOS UNIDADE DE MEDIDA  \\\n",
       "0  ETANOL HIDRATADO                           127              R$/l   \n",
       "1  ETANOL HIDRATADO                           387              R$/l   \n",
       "2  ETANOL HIDRATADO                           192              R$/l   \n",
       "3  ETANOL HIDRATADO                           162              R$/l   \n",
       "4  ETANOL HIDRATADO                           103              R$/l   \n",
       "\n",
       "   PREÇO MÉDIO REVENDA  DESVIO PADRÃO REVENDA  PREÇO MÍNIMO REVENDA  \\\n",
       "0                1.288                  0.016                  1.19   \n",
       "1                1.162                  0.114                  0.89   \n",
       "2                1.389                  0.097                  1.18   \n",
       "3                1.262                  0.070                  1.09   \n",
       "4                1.181                  0.078                  1.05   \n",
       "\n",
       "   PREÇO MÁXIMO REVENDA MARGEM MÉDIA REVENDA  COEF DE VARIAÇÃO REVENDA  \\\n",
       "0                 1.350                0.463                     0.012   \n",
       "1                 1.449                0.399                     0.098   \n",
       "2                 1.760                0.419                     0.070   \n",
       "3                 1.509                0.432                     0.055   \n",
       "4                 1.400                 0.24                     0.066   \n",
       "\n",
       "  PREÇO MÉDIO DISTRIBUIÇÃO DESVIO PADRÃO DISTRIBUIÇÃO  \\\n",
       "0                    0.825                       0.11   \n",
       "1                    0.763                      0.088   \n",
       "2                     0.97                      0.095   \n",
       "3                     0.83                      0.119   \n",
       "4                    0.941                      0.077   \n",
       "\n",
       "  PREÇO MÍNIMO DISTRIBUIÇÃO PREÇO MÁXIMO DISTRIBUIÇÃO  \\\n",
       "0                    0.4201                    0.9666   \n",
       "1                    0.5013                      1.05   \n",
       "2                    0.5614                     1.161   \n",
       "3                    0.5991                   1.22242   \n",
       "4                    0.7441                    1.0317   \n",
       "\n",
       "  COEF DE VARIAÇÃO DISTRIBUIÇÃO  Ano-mes  \n",
       "0                         0.133  2004-05  \n",
       "1                         0.115  2004-05  \n",
       "2                         0.098  2004-05  \n",
       "3                         0.143  2004-05  \n",
       "4                         0.082  2004-05  "
      ]
     },
     "execution_count": 29,
     "metadata": {},
     "output_type": "execute_result"
    }
   ],
   "source": [
    "Df_gasolina.head()"
   ]
  },
  {
   "cell_type": "markdown",
   "id": "7d25e880-b153-4cce-8268-8388c3de52a3",
   "metadata": {},
   "source": [
    "### 6. Utilizando o value_counts(), liste todos os tipos de produtos contidos na base de dados."
   ]
  },
  {
   "cell_type": "code",
   "execution_count": 38,
   "id": "f953fa16-59bd-40d9-90c0-af138acb4191",
   "metadata": {},
   "outputs": [
    {
     "data": {
      "text/plain": [
       "PRODUTO\n",
       "GASOLINA COMUM        23570\n",
       "GLP                   23561\n",
       "ETANOL HIDRATADO      23440\n",
       "ÓLEO DIESEL           21194\n",
       "GNV                   14469\n",
       "ÓLEO DIESEL S10        9113\n",
       "OLEO DIESEL S10        2376\n",
       "OLEO DIESEL            2351\n",
       "GASOLINA ADITIVADA      749\n",
       "Name: count, dtype: int64"
      ]
     },
     "execution_count": 38,
     "metadata": {},
     "output_type": "execute_result"
    }
   ],
   "source": [
    "Df_gasolina[\"PRODUTO\"].value_counts()"
   ]
  },
  {
   "cell_type": "markdown",
   "id": "fab0300f-7c49-48be-b95a-948601713229",
   "metadata": {},
   "source": [
    "### 7. Filtre o DataFrame para obter apenas dados da 'GASOLINA COMUM'. Grave em uma nova variável."
   ]
  },
  {
   "cell_type": "code",
   "execution_count": 42,
   "id": "6f1a53ad-2f8e-48b3-b1f3-05698caec5a7",
   "metadata": {},
   "outputs": [
    {
     "name": "stdout",
     "output_type": "stream",
     "text": [
      "       Unnamed: 0 DATA INICIAL DATA FINAL        REGIÃO              ESTADO  \\\n",
      "9256        12064   2004-05-09 2004-05-15  CENTRO OESTE    DISTRITO FEDERAL   \n",
      "9257        12065   2004-05-09 2004-05-15  CENTRO OESTE               GOIAS   \n",
      "9258        12066   2004-05-09 2004-05-15  CENTRO OESTE         MATO GROSSO   \n",
      "9259        12067   2004-05-09 2004-05-15  CENTRO OESTE  MATO GROSSO DO SUL   \n",
      "9260        12068   2004-05-09 2004-05-15      NORDESTE             ALAGOAS   \n",
      "...           ...          ...        ...           ...                 ...   \n",
      "78083      120721   2021-04-25 2021-05-01         NORTE             RORAIMA   \n",
      "78084      120722   2021-04-25 2021-05-01           SUL      SANTA CATARINA   \n",
      "78085      120723   2021-04-25 2021-05-01       SUDESTE           SAO PAULO   \n",
      "78086      120724   2021-04-25 2021-05-01      NORDESTE             SERGIPE   \n",
      "78087      120725   2021-04-25 2021-05-01         NORTE           TOCANTINS   \n",
      "\n",
      "              PRODUTO  NÚMERO DE POSTOS PESQUISADOS UNIDADE DE MEDIDA  \\\n",
      "9256   GASOLINA COMUM                           128              R$/l   \n",
      "9257   GASOLINA COMUM                           395              R$/l   \n",
      "9258   GASOLINA COMUM                           194              R$/l   \n",
      "9259   GASOLINA COMUM                           166              R$/l   \n",
      "9260   GASOLINA COMUM                           106              R$/l   \n",
      "...               ...                           ...               ...   \n",
      "78083  GASOLINA COMUM                            12              R$/l   \n",
      "78084  GASOLINA COMUM                           119              R$/l   \n",
      "78085  GASOLINA COMUM                          1187              R$/l   \n",
      "78086  GASOLINA COMUM                            34              R$/l   \n",
      "78087  GASOLINA COMUM                            20              R$/l   \n",
      "\n",
      "       PREÇO MÉDIO REVENDA  DESVIO PADRÃO REVENDA  PREÇO MÍNIMO REVENDA  \\\n",
      "9256                 2.029                  0.007                 1.990   \n",
      "9257                 2.025                  0.062                 1.850   \n",
      "9258                 2.358                  0.066                 2.000   \n",
      "9259                 2.120                  0.075                 1.970   \n",
      "9260                 2.090                  0.034                 2.000   \n",
      "...                    ...                    ...                   ...   \n",
      "78083                5.364                  0.065                 5.310   \n",
      "78084                5.051                  0.251                 4.640   \n",
      "78085                5.265                  0.218                 4.279   \n",
      "78086                5.586                  0.088                 5.410   \n",
      "78087                5.751                  0.160                 5.578   \n",
      "\n",
      "       PREÇO MÁXIMO REVENDA MARGEM MÉDIA REVENDA  COEF DE VARIAÇÃO REVENDA  \\\n",
      "9256                  2.070                0.318                     0.003   \n",
      "9257                  2.220                0.296                     0.031   \n",
      "9258                  2.540                0.472                     0.028   \n",
      "9259                  2.440                0.325                     0.035   \n",
      "9260                  2.159                 0.35                     0.016   \n",
      "...                     ...                  ...                       ...   \n",
      "78083                 5.530             -99999.0                     0.012   \n",
      "78084                 5.599             -99999.0                     0.050   \n",
      "78085                 6.099             -99999.0                     0.041   \n",
      "78086                 5.699             -99999.0                     0.016   \n",
      "78087                 6.119             -99999.0                     0.028   \n",
      "\n",
      "      PREÇO MÉDIO DISTRIBUIÇÃO DESVIO PADRÃO DISTRIBUIÇÃO  \\\n",
      "9256                     1.711                       0.02   \n",
      "9257                     1.729                      0.036   \n",
      "9258                     1.886                      0.068   \n",
      "9259                     1.795                      0.033   \n",
      "9260                      1.74                      0.042   \n",
      "...                        ...                        ...   \n",
      "78083                 -99999.0                   -99999.0   \n",
      "78084                 -99999.0                   -99999.0   \n",
      "78085                 -99999.0                   -99999.0   \n",
      "78086                 -99999.0                   -99999.0   \n",
      "78087                 -99999.0                   -99999.0   \n",
      "\n",
      "      PREÇO MÍNIMO DISTRIBUIÇÃO PREÇO MÁXIMO DISTRIBUIÇÃO  \\\n",
      "9256                      1.651                    1.7427   \n",
      "9257                     1.6643                     1.915   \n",
      "9258                       1.75                    2.0713   \n",
      "9259                    1.70701                    1.9703   \n",
      "9260                     1.6789                     1.918   \n",
      "...                         ...                       ...   \n",
      "78083                  -99999.0                  -99999.0   \n",
      "78084                  -99999.0                  -99999.0   \n",
      "78085                  -99999.0                  -99999.0   \n",
      "78086                  -99999.0                  -99999.0   \n",
      "78087                  -99999.0                  -99999.0   \n",
      "\n",
      "      COEF DE VARIAÇÃO DISTRIBUIÇÃO  Ano-mes  \n",
      "9256                          0.012  2004-05  \n",
      "9257                          0.021  2004-05  \n",
      "9258                          0.036  2004-05  \n",
      "9259                          0.018  2004-05  \n",
      "9260                          0.024  2004-05  \n",
      "...                             ...      ...  \n",
      "78083                      -99999.0  2021-05  \n",
      "78084                      -99999.0  2021-05  \n",
      "78085                      -99999.0  2021-05  \n",
      "78086                      -99999.0  2021-05  \n",
      "78087                      -99999.0  2021-05  \n",
      "\n",
      "[23570 rows x 20 columns]\n"
     ]
    }
   ],
   "source": [
    "# Criando o filtro\n",
    "filtro = Df_gasolina[\"PRODUTO\"] == \"GASOLINA COMUM\"\n",
    "\n",
    "# Aplicando o filtro ao DataFrame original\n",
    "Df_gasolina_comum = Df_gasolina[filtro]\n",
    "\n",
    "# Exibindo as linhas correspondentes\n",
    "print(Df_gasolina_comum)"
   ]
  },
  {
   "cell_type": "markdown",
   "id": "fb031b0b-51e7-43d7-b2cb-10da05019a73",
   "metadata": {},
   "source": [
    "### 8. Qual o preço médio de revenda da gasolina em agosto de 2008?"
   ]
  },
  {
   "cell_type": "code",
   "execution_count": 45,
   "id": "3ba34e10-cc51-4b04-b67a-4245248907ed",
   "metadata": {},
   "outputs": [
    {
     "data": {
      "text/plain": [
       "2.6012444444444442"
      ]
     },
     "execution_count": 45,
     "metadata": {},
     "output_type": "execute_result"
    }
   ],
   "source": [
    "filtro_ago = Df_gasolina_comum[\"Ano-mes\"] == \"2008-08\"\n",
    "\n",
    "Df_2008Ago = Df_gasolina_comum[filtro_ago]\n",
    "\n",
    "Df_2008Ago[\"PREÇO MÉDIO REVENDA\"].mean()"
   ]
  },
  {
   "cell_type": "markdown",
   "id": "a57428cc-e9e6-48f8-a7f7-27fb9c87bcde",
   "metadata": {},
   "source": [
    "### 9. Qual o preço médio de revenda da gasolina em maio de 2014 em São Paulo?"
   ]
  },
  {
   "cell_type": "code",
   "execution_count": 50,
   "id": "e981678b-85db-499a-8466-e24c455ea20c",
   "metadata": {},
   "outputs": [
    {
     "data": {
      "text/plain": [
       "2.8822"
      ]
     },
     "execution_count": 50,
     "metadata": {},
     "output_type": "execute_result"
    }
   ],
   "source": [
    "Filtro_Maio = Df_gasolina_comum[\"Ano-mes\"] == \"2014-05\" \n",
    "\n",
    "Df_2014Mai = Df_gasolina_comum[Filtro_Maio]\n",
    "\n",
    "FiltroSP = Df_2014Mai[\"ESTADO\"] == \"SAO PAULO\"\n",
    "\n",
    "Df_2014MaiSP = Df_2014Mai[FiltroSP]\n",
    "\n",
    "Df_2014MaiSP[\"PREÇO MÉDIO REVENDA\"].mean()"
   ]
  },
  {
   "cell_type": "markdown",
   "id": "6ab2edd0-8bf7-49d7-b3e8-5535ec4a58cf",
   "metadata": {},
   "source": [
    "### 10. Você conseguiria descobrir em qual(quais) estado(s) a gasolina ultrapassou a barreira dos R$ 5,00? E quando isso ocorreu?"
   ]
  },
  {
   "cell_type": "code",
   "execution_count": 54,
   "id": "32a9045a-899c-4775-8b66-c0490f3e62a7",
   "metadata": {},
   "outputs": [],
   "source": [
    "Gaso_5 = Df_gasolina_comum[\"PREÇO MÉDIO REVENDA\"] > 5\n",
    "\n",
    "df_Gaso_5 = Df_gasolina_comum[Gaso_5]\n",
    "\n"
   ]
  },
  {
   "cell_type": "code",
   "execution_count": 56,
   "id": "220b0c8a",
   "metadata": {},
   "outputs": [
    {
     "data": {
      "text/plain": [
       "ESTADO\n",
       "ACRE                   60\n",
       "RIO DE JANEIRO         34\n",
       "TOCANTINS              20\n",
       "RIO GRANDE DO NORTE    14\n",
       "DISTRITO FEDERAL       12\n",
       "MINAS GERAIS           11\n",
       "RIO GRANDE DO SUL      11\n",
       "PIAUI                  11\n",
       "PARA                   11\n",
       "MATO GROSSO DO SUL     11\n",
       "CEARA                  11\n",
       "BAHIA                  11\n",
       "ALAGOAS                11\n",
       "PERNAMBUCO             10\n",
       "SERGIPE                10\n",
       "SANTA CATARINA         10\n",
       "RONDONIA               10\n",
       "AMAZONAS               10\n",
       "MARANHAO               10\n",
       "GOIAS                  10\n",
       "ESPIRITO SANTO         10\n",
       "PARAIBA                 9\n",
       "MATO GROSSO             9\n",
       "PARANA                  9\n",
       "RORAIMA                 9\n",
       "SAO PAULO               9\n",
       "Name: count, dtype: int64"
      ]
     },
     "execution_count": 56,
     "metadata": {},
     "output_type": "execute_result"
    }
   ],
   "source": [
    "df_Gaso_5[\"ESTADO\"].value_counts()"
   ]
  },
  {
   "cell_type": "code",
   "execution_count": 57,
   "id": "8900cc82",
   "metadata": {},
   "outputs": [
    {
     "data": {
      "text/plain": [
       "Ano-mes\n",
       "2021-04    104\n",
       "2021-03    103\n",
       "2021-02     44\n",
       "2021-05     26\n",
       "2018-10     12\n",
       "2021-01      9\n",
       "2018-09      8\n",
       "2018-11      8\n",
       "2019-06      6\n",
       "2018-06      6\n",
       "2018-07      4\n",
       "2018-08      4\n",
       "2019-05      4\n",
       "2020-02      4\n",
       "2020-12      4\n",
       "2020-01      3\n",
       "2018-05      1\n",
       "2020-03      1\n",
       "2018-12      1\n",
       "2019-07      1\n",
       "Freq: M, Name: count, dtype: int64"
      ]
     },
     "execution_count": 57,
     "metadata": {},
     "output_type": "execute_result"
    }
   ],
   "source": [
    "df_Gaso_5[\"Ano-mes\"].value_counts()"
   ]
  },
  {
   "cell_type": "markdown",
   "id": "80f4c3a6-ba0e-43b0-a328-91c0aa04348c",
   "metadata": {},
   "source": [
    "### 11. Qual a média de preço dos estados da região sul em 2012?"
   ]
  },
  {
   "cell_type": "code",
   "execution_count": 67,
   "id": "e6bbbe89-3dc9-4264-ba31-2ce5aa76054b",
   "metadata": {},
   "outputs": [
    {
     "name": "stderr",
     "output_type": "stream",
     "text": [
      "C:\\Users\\PICHAU\\AppData\\Local\\Temp\\ipykernel_10580\\267070542.py:1: SettingWithCopyWarning: \n",
      "A value is trying to be set on a copy of a slice from a DataFrame.\n",
      "Try using .loc[row_indexer,col_indexer] = value instead\n",
      "\n",
      "See the caveats in the documentation: https://pandas.pydata.org/pandas-docs/stable/user_guide/indexing.html#returning-a-view-versus-a-copy\n",
      "  Df_gasolina_comum[\"Year\"] = Df_gasolina_comum[\"Ano-mes\"].dt.year\n"
     ]
    }
   ],
   "source": [
    "Df_gasolina_comum[\"Year\"] = Df_gasolina_comum[\"Ano-mes\"].dt.year\n",
    "\n"
   ]
  },
  {
   "cell_type": "code",
   "execution_count": 71,
   "id": "7d5ce43a",
   "metadata": {},
   "outputs": [
    {
     "data": {
      "text/plain": [
       "2.7214423076923073"
      ]
     },
     "execution_count": 71,
     "metadata": {},
     "output_type": "execute_result"
    }
   ],
   "source": [
    "FiltroRegiao = Df_gasolina_comum[\"REGIÃO\"] == \"SUL\"\n",
    "df_sul = Df_gasolina_comum[FiltroRegiao]\n",
    "\n",
    "FiltroAno = df_sul[\"Year\"] == 2012\n",
    "df_sul2012 = df_sul[FiltroAno]\n",
    "\n",
    "df_sul2012[\"PREÇO MÉDIO REVENDA\"].mean()"
   ]
  },
  {
   "cell_type": "markdown",
   "id": "28781cbf-0dba-4512-83df-87537e548c63",
   "metadata": {},
   "source": [
    "### 12. Você conseguiria obter uma tabela contendo a variação percentual ano a ano para o estado do Rio de Janeiro?"
   ]
  },
  {
   "cell_type": "code",
   "execution_count": 88,
   "id": "09d2d505-127b-47ff-8fe5-0c6170da3900",
   "metadata": {},
   "outputs": [
    {
     "data": {
      "text/html": [
       "<div>\n",
       "<style scoped>\n",
       "    .dataframe tbody tr th:only-of-type {\n",
       "        vertical-align: middle;\n",
       "    }\n",
       "\n",
       "    .dataframe tbody tr th {\n",
       "        vertical-align: top;\n",
       "    }\n",
       "\n",
       "    .dataframe thead th {\n",
       "        text-align: right;\n",
       "    }\n",
       "</style>\n",
       "<table border=\"1\" class=\"dataframe\">\n",
       "  <thead>\n",
       "    <tr style=\"text-align: right;\">\n",
       "      <th></th>\n",
       "      <th>PREÇO MÉDIO REVENDA</th>\n",
       "      <th>% Média Anual</th>\n",
       "    </tr>\n",
       "    <tr>\n",
       "      <th>Year</th>\n",
       "      <th></th>\n",
       "      <th></th>\n",
       "    </tr>\n",
       "  </thead>\n",
       "  <tbody>\n",
       "    <tr>\n",
       "      <th>2004</th>\n",
       "      <td>2.171939</td>\n",
       "      <td>NaN</td>\n",
       "    </tr>\n",
       "    <tr>\n",
       "      <th>2005</th>\n",
       "      <td>2.338588</td>\n",
       "      <td>7.67</td>\n",
       "    </tr>\n",
       "    <tr>\n",
       "      <th>2006</th>\n",
       "      <td>2.561365</td>\n",
       "      <td>9.53</td>\n",
       "    </tr>\n",
       "    <tr>\n",
       "      <th>2007</th>\n",
       "      <td>2.532077</td>\n",
       "      <td>-1.14</td>\n",
       "    </tr>\n",
       "    <tr>\n",
       "      <th>2008</th>\n",
       "      <td>2.546731</td>\n",
       "      <td>0.58</td>\n",
       "    </tr>\n",
       "    <tr>\n",
       "      <th>2009</th>\n",
       "      <td>2.564980</td>\n",
       "      <td>0.72</td>\n",
       "    </tr>\n",
       "    <tr>\n",
       "      <th>2010</th>\n",
       "      <td>2.647788</td>\n",
       "      <td>3.23</td>\n",
       "    </tr>\n",
       "    <tr>\n",
       "      <th>2011</th>\n",
       "      <td>2.832698</td>\n",
       "      <td>6.98</td>\n",
       "    </tr>\n",
       "    <tr>\n",
       "      <th>2012</th>\n",
       "      <td>2.852827</td>\n",
       "      <td>0.71</td>\n",
       "    </tr>\n",
       "    <tr>\n",
       "      <th>2013</th>\n",
       "      <td>2.995442</td>\n",
       "      <td>5.00</td>\n",
       "    </tr>\n",
       "    <tr>\n",
       "      <th>2014</th>\n",
       "      <td>3.132115</td>\n",
       "      <td>4.56</td>\n",
       "    </tr>\n",
       "    <tr>\n",
       "      <th>2015</th>\n",
       "      <td>3.537471</td>\n",
       "      <td>12.94</td>\n",
       "    </tr>\n",
       "    <tr>\n",
       "      <th>2016</th>\n",
       "      <td>3.917736</td>\n",
       "      <td>10.75</td>\n",
       "    </tr>\n",
       "    <tr>\n",
       "      <th>2017</th>\n",
       "      <td>4.102308</td>\n",
       "      <td>4.71</td>\n",
       "    </tr>\n",
       "    <tr>\n",
       "      <th>2018</th>\n",
       "      <td>4.855077</td>\n",
       "      <td>18.35</td>\n",
       "    </tr>\n",
       "    <tr>\n",
       "      <th>2019</th>\n",
       "      <td>4.855096</td>\n",
       "      <td>0.00</td>\n",
       "    </tr>\n",
       "    <tr>\n",
       "      <th>2020</th>\n",
       "      <td>4.761295</td>\n",
       "      <td>-1.93</td>\n",
       "    </tr>\n",
       "    <tr>\n",
       "      <th>2021</th>\n",
       "      <td>5.588778</td>\n",
       "      <td>17.38</td>\n",
       "    </tr>\n",
       "  </tbody>\n",
       "</table>\n",
       "</div>"
      ],
      "text/plain": [
       "      PREÇO MÉDIO REVENDA  % Média Anual\n",
       "Year                                    \n",
       "2004             2.171939            NaN\n",
       "2005             2.338588           7.67\n",
       "2006             2.561365           9.53\n",
       "2007             2.532077          -1.14\n",
       "2008             2.546731           0.58\n",
       "2009             2.564980           0.72\n",
       "2010             2.647788           3.23\n",
       "2011             2.832698           6.98\n",
       "2012             2.852827           0.71\n",
       "2013             2.995442           5.00\n",
       "2014             3.132115           4.56\n",
       "2015             3.537471          12.94\n",
       "2016             3.917736          10.75\n",
       "2017             4.102308           4.71\n",
       "2018             4.855077          18.35\n",
       "2019             4.855096           0.00\n",
       "2020             4.761295          -1.93\n",
       "2021             5.588778          17.38"
      ]
     },
     "execution_count": 88,
     "metadata": {},
     "output_type": "execute_result"
    }
   ],
   "source": [
    "Gaso_Rio = Df_gasolina_comum[Df_gasolina_comum[\"ESTADO\"] == \"RIO DE JANEIRO\"][[\"Year\", \"PREÇO MÉDIO REVENDA\"]].groupby([\"Year\"]).mean()\n",
    "\n",
    "Gaso_Rio[\"% Média Anual\"] = round(Gaso_Rio[\"PREÇO MÉDIO REVENDA\"].pct_change()*100,2)\n",
    "\n",
    "Gaso_Rio"
   ]
  }
 ],
 "metadata": {
  "kernelspec": {
   "display_name": "Python 3 (ipykernel)",
   "language": "python",
   "name": "python3"
  },
  "language_info": {
   "codemirror_mode": {
    "name": "ipython",
    "version": 3
   },
   "file_extension": ".py",
   "mimetype": "text/x-python",
   "name": "python",
   "nbconvert_exporter": "python",
   "pygments_lexer": "ipython3",
   "version": "3.12.2"
  }
 },
 "nbformat": 4,
 "nbformat_minor": 5
}
